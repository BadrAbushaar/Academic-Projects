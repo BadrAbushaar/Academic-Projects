{
 "cells": [
  {
   "cell_type": "code",
   "execution_count": null,
   "id": "b4222583",
   "metadata": {},
   "outputs": [],
   "source": [
    "import numpy as np"
   ]
  },
  {
   "cell_type": "code",
   "execution_count": null,
   "id": "0cc7ad4d",
   "metadata": {},
   "outputs": [],
   "source": [
    "data1 = [[1, 2, 3, 4, 5, 10], [5, 6, 7, 8, 1, 0]]\n",
    "arr1 = np.array(data1)"
   ]
  },
  {
   "cell_type": "code",
   "execution_count": null,
   "id": "a9fe3d07",
   "metadata": {},
   "outputs": [],
   "source": [
    "np.arange(3)\n",
    "np.arange(2, 12)\n",
    "np.arange(3, 27, 3)"
   ]
  },
  {
   "cell_type": "code",
   "execution_count": null,
   "id": "5daeabf6",
   "metadata": {},
   "outputs": [],
   "source": [
    "np.random.randn(5)\n",
    "np.random.randn(2, 3)"
   ]
  },
  {
   "cell_type": "code",
   "execution_count": null,
   "id": "fd85b446",
   "metadata": {},
   "outputs": [],
   "source": [
    "arr1 = np.array([1, 2, 3], dtype = np.float32)\n",
    "arr2 = np.array([1, 2, 3], dtype = \"i4\")\n",
    "\n",
    "arr = np.array([1, 2, 3, 4, 5])\n",
    "float_arr = arr.astype(np.float64)\n",
    "print(type(float_arr))"
   ]
  },
  {
   "cell_type": "code",
   "execution_count": null,
   "id": "fc45e853",
   "metadata": {},
   "outputs": [],
   "source": [
    "arr = np.array([[1, 2, 3], [4, 5, 6]])\n",
    "arr1 = np.array([2, 2, 1])\n",
    "arr2 = np.array([1, 2, 2])\n",
    "\n",
    "arr * arr\n",
    "arr1 * arr2\n",
    "arr1 + arr2\n",
    "arr1 / arr2"
   ]
  },
  {
   "cell_type": "code",
   "execution_count": null,
   "id": "3358dbf6",
   "metadata": {},
   "outputs": [],
   "source": [
    "arr1 = np.array([1, 2, 3])\n",
    "arr1 * 3"
   ]
  },
  {
   "cell_type": "code",
   "execution_count": 22,
   "id": "b56aac00",
   "metadata": {},
   "outputs": [
    {
     "name": "stdout",
     "output_type": "stream",
     "text": [
      "[-0.57547997  0.66883304  0.61995708 -0.27979828 -0.79301176 -0.43347165]\n",
      "[-0.79301176 -0.57547997 -0.43347165 -0.27979828  0.61995708  0.66883304]\n"
     ]
    }
   ],
   "source": [
    "arr = np.random.randn(6)\n",
    "print(arr)\n",
    "arr.sort()\n",
    "print(arr)"
   ]
  },
  {
   "cell_type": "code",
   "execution_count": 24,
   "id": "571072c9",
   "metadata": {},
   "outputs": [
    {
     "data": {
      "text/plain": [
       "array([[-0.87028115, -1.81372564, -0.94361546],\n",
       "       [ 0.58872241, -0.80744881, -0.91159834],\n",
       "       [ 0.71592273,  0.77906802, -0.77722476],\n",
       "       [ 0.83763193,  1.32645007, -0.21025697],\n",
       "       [ 1.1608214 ,  2.04448833,  0.36264518]])"
      ]
     },
     "execution_count": 24,
     "metadata": {},
     "output_type": "execute_result"
    }
   ],
   "source": [
    "arr = np.random.randn(5, 3)\n",
    "arr.sort(axis=0)\n",
    "arr"
   ]
  },
  {
   "cell_type": "code",
   "execution_count": 26,
   "id": "fdc9dbf3",
   "metadata": {},
   "outputs": [
    {
     "name": "stdout",
     "output_type": "stream",
     "text": [
      "5\n",
      "1.6666666666666667\n"
     ]
    }
   ],
   "source": [
    "arr = np.array([1, 2, 2])\n",
    "print(arr.sum())\n",
    "print(arr.mean())\n"
   ]
  }
 ],
 "metadata": {
  "kernelspec": {
   "display_name": "base",
   "language": "python",
   "name": "python3"
  },
  "language_info": {
   "codemirror_mode": {
    "name": "ipython",
    "version": 3
   },
   "file_extension": ".py",
   "mimetype": "text/x-python",
   "name": "python",
   "nbconvert_exporter": "python",
   "pygments_lexer": "ipython3",
   "version": "3.9.13"
  },
  "vscode": {
   "interpreter": {
    "hash": "c3badc14a3c3afce84ab1ac7d27ad2bb7e7e57ed32a63b05951cd14188a42a30"
   }
  }
 },
 "nbformat": 4,
 "nbformat_minor": 5
}
