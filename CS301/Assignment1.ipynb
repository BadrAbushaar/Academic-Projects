{
 "cells": [
  {
   "attachments": {},
   "cell_type": "markdown",
   "metadata": {
    "tags": []
   },
   "source": [
    "# Instructions\n",
    "Before you turn this problem in, make sure you fill in any place that says `YOUR CODE HERE` , as well as your name and section. \n",
    "\n",
    "Don't try to delete or alter the empty cells; they contain the test cases and hidden from you. \n",
    "\n",
    "If the question asks you to asign the returned value in a variable, use the same variable name as it mentions. I have typed the variable names for you to avoid any unexpected errors; you will only assign the value.\n",
    "\n",
    "In part 2 and part 3, the program is reading the dataset from google drive links. You can use the url to download the csv files and read them but that is not required for this assignment. "
   ]
  },
  {
   "cell_type": "code",
   "execution_count": 8,
   "metadata": {},
   "outputs": [],
   "source": [
    "NAME = \"Badr Abushaar\"\n",
    "Section=\"104\""
   ]
  },
  {
   "cell_type": "markdown",
   "metadata": {},
   "source": [
    "---"
   ]
  },
  {
   "cell_type": "markdown",
   "metadata": {
    "tags": []
   },
   "source": [
    "# Part 1"
   ]
  },
  {
   "cell_type": "code",
   "execution_count": 9,
   "metadata": {
    "tags": []
   },
   "outputs": [],
   "source": [
    "import pandas as pd\n",
    "import numpy as np"
   ]
  },
  {
   "cell_type": "markdown",
   "metadata": {},
   "source": [
    "## Question 1\n",
    "Sort arr to produce the following sorted array:\n",
    "\n",
    "[[ 0.38845352, -0.91379247],\n",
    "\n",
    "[ 0.4511203 ,  0.47462882],\n",
    "\n",
    "[ 0.72744033,  1.53018022]]"
   ]
  },
  {
   "cell_type": "code",
   "execution_count": 10,
   "metadata": {
    "deletable": false,
    "nbgrader": {
     "cell_type": "code",
     "checksum": "94d032d2d47f5ff56d3f4e98da7d292a",
     "grade": false,
     "grade_id": "cell-cfee83e50a30b5f3",
     "locked": false,
     "schema_version": 3,
     "solution": true,
     "task": false
    },
    "tags": []
   },
   "outputs": [],
   "source": [
    "arr = np.array([[ 0.38845352,  0.47462882],\n",
    "                [ 0.4511203 ,  1.53018022],\n",
    "                [ 0.72744033, -0.91379247]])\n",
    "# YOUR CODE HERE\n",
    "arr.sort(0)"
   ]
  },
  {
   "cell_type": "code",
   "execution_count": null,
   "metadata": {
    "deletable": false,
    "editable": false,
    "nbgrader": {
     "cell_type": "code",
     "checksum": "c9569ecc59801033832352b60e8ba38f",
     "grade": true,
     "grade_id": "cell-073a71fe1e9a4a93",
     "locked": true,
     "points": 10,
     "schema_version": 3,
     "solution": false,
     "task": false
    },
    "tags": []
   },
   "outputs": [],
   "source": []
  },
  {
   "cell_type": "markdown",
   "metadata": {},
   "source": [
    "## Question 2\n",
    "Write the code to produce the following sum from arr2 and assign the result in the variable temp_sum:\n",
    "\n",
    "[ 16, 105]\n"
   ]
  },
  {
   "cell_type": "code",
   "execution_count": 11,
   "metadata": {
    "deletable": false,
    "nbgrader": {
     "cell_type": "code",
     "checksum": "c020bafcd050c073fe6681cb4c4c62be",
     "grade": false,
     "grade_id": "cell-1a28fa794e1269f2",
     "locked": false,
     "schema_version": 3,
     "solution": true,
     "task": false
    },
    "tags": []
   },
   "outputs": [],
   "source": [
    "arr2 = np.array([[11, 2, 3], \n",
    "                [40, 5, 60]])\n",
    "# YOUR CODE HERE\n",
    "temp_sum = arr2.sum(1)"
   ]
  },
  {
   "cell_type": "code",
   "execution_count": null,
   "metadata": {
    "deletable": false,
    "editable": false,
    "nbgrader": {
     "cell_type": "code",
     "checksum": "8af08e3c158b9406bbbb25777ffa3bc7",
     "grade": true,
     "grade_id": "cell-e9750ab817b42191",
     "locked": true,
     "points": 10,
     "schema_version": 3,
     "solution": false,
     "task": false
    },
    "tags": []
   },
   "outputs": [],
   "source": []
  },
  {
   "cell_type": "markdown",
   "metadata": {},
   "source": [
    "## Question 3\n",
    "Write the code to produce the following numpy array and assign it to the variable temp_arr:\n",
    "\n",
    "array([ 0,  3,  6,  9, 12, 15, 18, 21, 24, 27, 30, 33, 36, 39, 42, 45, 48,51, 54, 57, 60, 63, 66, 69, 72, 75, 78, 81, 84, 87, 90, 93, 96, 99])"
   ]
  },
  {
   "cell_type": "code",
   "execution_count": 12,
   "metadata": {
    "deletable": false,
    "nbgrader": {
     "cell_type": "code",
     "checksum": "ea587063b22cf8141a03b53bbb42518b",
     "grade": false,
     "grade_id": "cell-8e250c0dc77b7e9e",
     "locked": false,
     "schema_version": 3,
     "solution": true,
     "task": false
    },
    "tags": []
   },
   "outputs": [],
   "source": [
    "# YOUR CODE HERE\n",
    "temp_arr = np.arange(0, 100, 3)"
   ]
  },
  {
   "cell_type": "code",
   "execution_count": null,
   "metadata": {
    "deletable": false,
    "editable": false,
    "nbgrader": {
     "cell_type": "code",
     "checksum": "ddee961c28a8a1f72474c585be17e484",
     "grade": true,
     "grade_id": "cell-b78e44c8abfafbec",
     "locked": true,
     "points": 10,
     "schema_version": 3,
     "solution": false,
     "task": false
    },
    "tags": []
   },
   "outputs": [],
   "source": []
  },
  {
   "cell_type": "markdown",
   "metadata": {
    "id": "8J6CWLxWKVUW",
    "tags": []
   },
   "source": [
    "# Part 2"
   ]
  },
  {
   "cell_type": "code",
   "execution_count": 13,
   "metadata": {
    "id": "LLb2ZMhzy1nu",
    "tags": []
   },
   "outputs": [],
   "source": [
    "import pandas as pd\n",
    "import numpy as np\n",
    "url = 'https://drive.google.com/file/d/1gzci82iegwJYMkfayt3FW-uiAVVHy6En/view?usp=share_link'\n",
    "path = 'https://drive.google.com/uc?export=download&id='+url.split('/')[-2]\n",
    "df = pd.read_csv(path)"
   ]
  },
  {
   "cell_type": "code",
   "execution_count": 14,
   "metadata": {
    "id": "9g9dWrJwM7fp",
    "tags": []
   },
   "outputs": [
    {
     "data": {
      "text/plain": [
       "Index(['Id', 'EmployeeName', 'JobTitle', 'BasePay', 'OvertimePay'], dtype='object')"
      ]
     },
     "execution_count": 14,
     "metadata": {},
     "output_type": "execute_result"
    }
   ],
   "source": [
    "df.columns"
   ]
  },
  {
   "cell_type": "markdown",
   "metadata": {
    "id": "hkwcTTsDUx2e"
   },
   "source": [
    "## Question 4\n",
    "In the dataset, there is an employe as DAVID SHINN in the EmployeeName column. Write the code that will return the BasePay of DAVID SHINN?\n",
    "\n",
    "Your answer will have the following syntax:\n",
    "\n",
    "base_pay=df[df[\"\"]=='DAVID SHINN'][\"\"]"
   ]
  },
  {
   "cell_type": "code",
   "execution_count": 15,
   "metadata": {
    "deletable": false,
    "id": "QBgKaGxLNNGY",
    "nbgrader": {
     "cell_type": "code",
     "checksum": "a76abc5835a540a5047a9bcfa9f480bf",
     "grade": false,
     "grade_id": "q4",
     "locked": false,
     "schema_version": 3,
     "solution": true,
     "task": false
    },
    "tags": []
   },
   "outputs": [],
   "source": [
    "# YOUR CODE HERE\n",
    "base_pay = df[df[\"EmployeeName\"] == 'David Shinn'][\"BasePay\"]"
   ]
  },
  {
   "cell_type": "code",
   "execution_count": null,
   "metadata": {
    "deletable": false,
    "editable": false,
    "nbgrader": {
     "cell_type": "code",
     "checksum": "ac53ae4579140a9d98d78ccacc19c404",
     "grade": true,
     "grade_id": "q4-test",
     "locked": true,
     "points": 10,
     "schema_version": 3,
     "solution": false,
     "task": false
    },
    "tags": []
   },
   "outputs": [],
   "source": []
  },
  {
   "attachments": {},
   "cell_type": "markdown",
   "metadata": {
    "id": "ou5GeFE_WO-0"
   },
   "source": [
    "## Question 5 \n",
    "In the dataset, there is a column as JobTitle. One of the job titles is Registered Nurse. Write the code that will return the total number of Registered Nurse in the dataset.\n",
    "\n",
    "hint: use the value_counts() function on the JobTitle column and then extract the required information from the result."
   ]
  },
  {
   "cell_type": "code",
   "execution_count": 26,
   "metadata": {
    "deletable": false,
    "id": "KZ_dKtOIy1n2",
    "nbgrader": {
     "cell_type": "code",
     "checksum": "ce6e734f89eee649a664033fc0b2faa5",
     "grade": false,
     "grade_id": "q5",
     "locked": false,
     "schema_version": 3,
     "solution": true,
     "task": false
    },
    "tags": []
   },
   "outputs": [
    {
     "data": {
      "text/plain": [
       "1257"
      ]
     },
     "execution_count": 26,
     "metadata": {},
     "output_type": "execute_result"
    }
   ],
   "source": [
    "# YOUR CODE HERE\n",
    "RN_count = df[\"JobTitle\"].value_counts()[\"Registered Nurse\"]\n",
    "RN_count"
   ]
  },
  {
   "cell_type": "code",
   "execution_count": null,
   "metadata": {
    "deletable": false,
    "editable": false,
    "nbgrader": {
     "cell_type": "code",
     "checksum": "b6f60cae3027cdb3ca3fa79847392092",
     "grade": true,
     "grade_id": "q5-test",
     "locked": true,
     "points": 10,
     "schema_version": 3,
     "solution": false,
     "task": false
    },
    "tags": []
   },
   "outputs": [],
   "source": []
  },
  {
   "cell_type": "markdown",
   "metadata": {
    "id": "ZwpLju9WWJiq"
   },
   "source": [
    "## Qustion 6 \n",
    "Write the code to change the data type of column OvertimePay. After the operation, if you execute the following code, it will return you - dtype('float64')\n",
    "\n",
    "df['OvertimePay'].dtype"
   ]
  },
  {
   "cell_type": "code",
   "execution_count": 17,
   "metadata": {
    "tags": []
   },
   "outputs": [],
   "source": [
    "df['OvertimePay']=df['OvertimePay'].replace(to_replace = 'Not Provided', value = np.nan) # Execute this cell to avoid error in next cell"
   ]
  },
  {
   "cell_type": "code",
   "execution_count": 18,
   "metadata": {
    "deletable": false,
    "id": "h_M68jz5VslO",
    "nbgrader": {
     "cell_type": "code",
     "checksum": "7415a5f937fed6348d1bb6a3f82a3562",
     "grade": false,
     "grade_id": "cell-7e11c97263f8b149",
     "locked": false,
     "schema_version": 3,
     "solution": true,
     "task": false
    },
    "tags": []
   },
   "outputs": [
    {
     "data": {
      "text/plain": [
       "dtype('float64')"
      ]
     },
     "execution_count": 18,
     "metadata": {},
     "output_type": "execute_result"
    }
   ],
   "source": [
    "# YOUR CODE HERE\n",
    "df[\"OvertimePay\"] = df[\"OvertimePay\"].astype(np.float64)\n",
    "df[\"OvertimePay\"].dtype"
   ]
  },
  {
   "cell_type": "code",
   "execution_count": null,
   "metadata": {
    "deletable": false,
    "editable": false,
    "id": "LLqxWeUQVsoT",
    "nbgrader": {
     "cell_type": "code",
     "checksum": "f8bb1ba6a35c6f643e500fbeb32bc61a",
     "grade": true,
     "grade_id": "cell-fe689699c1a94a9f",
     "locked": true,
     "points": 10,
     "schema_version": 3,
     "solution": false,
     "task": false
    },
    "tags": []
   },
   "outputs": [],
   "source": []
  },
  {
   "cell_type": "markdown",
   "metadata": {
    "id": "wZqSDniCWsV9"
   },
   "source": [
    "## Question 7 \n",
    "Write the code to find the maximum overtimePay and assign the result to the variable max_overtime_pay."
   ]
  },
  {
   "cell_type": "code",
   "execution_count": 19,
   "metadata": {
    "deletable": false,
    "id": "Dkplqp2WWsWA",
    "nbgrader": {
     "cell_type": "code",
     "checksum": "ef039c4e1b5ca48263031c1f999d3dd9",
     "grade": false,
     "grade_id": "cell-3d57bc2ff7761cb1",
     "locked": false,
     "schema_version": 3,
     "solution": true,
     "task": false
    },
    "tags": []
   },
   "outputs": [],
   "source": [
    "# YOUR CODE HERE\n",
    "max_overtime_pay = df[\"OvertimePay\"].max()"
   ]
  },
  {
   "cell_type": "code",
   "execution_count": null,
   "metadata": {
    "deletable": false,
    "editable": false,
    "nbgrader": {
     "cell_type": "code",
     "checksum": "f0aefe2c0767e73f6c76da2546b6dc87",
     "grade": true,
     "grade_id": "cell-2f94137109322642",
     "locked": true,
     "points": 10,
     "schema_version": 3,
     "solution": false,
     "task": false
    },
    "tags": []
   },
   "outputs": [],
   "source": []
  },
  {
   "cell_type": "markdown",
   "metadata": {
    "id": "nQyqX1WZmu8t",
    "tags": []
   },
   "source": [
    "# Part 3"
   ]
  },
  {
   "cell_type": "code",
   "execution_count": 20,
   "metadata": {
    "executionInfo": {
     "elapsed": 675,
     "status": "ok",
     "timestamp": 1677225058279,
     "user": {
      "displayName": "Akm Islam",
      "userId": "10887598172150809320"
     },
     "user_tz": 300
    },
    "id": "Ahpf6QcDmxKb",
    "tags": []
   },
   "outputs": [],
   "source": [
    "import pandas as pd\n",
    "import numpy as np\n",
    "url = 'https://drive.google.com/file/d/1c9oQmLdQgoy_-yq6GErTQZWqVszPcNtQ/view?usp=share_link'\n",
    "path = 'https://drive.google.com/uc?export=download&id='+url.split('/')[-2]\n",
    "df2 = pd.read_csv(path)"
   ]
  },
  {
   "cell_type": "code",
   "execution_count": 21,
   "metadata": {
    "colab": {
     "base_uri": "https://localhost:8080/"
    },
    "executionInfo": {
     "elapsed": 13,
     "status": "ok",
     "timestamp": 1677224980100,
     "user": {
      "displayName": "Akm Islam",
      "userId": "10887598172150809320"
     },
     "user_tz": 300
    },
    "id": "AwLP6DGXnFhp",
    "outputId": "fd8695ef-22bd-4c45-8121-b14d00c55d6e",
    "tags": []
   },
   "outputs": [
    {
     "data": {
      "text/plain": [
       "(100, 5)"
      ]
     },
     "execution_count": 21,
     "metadata": {},
     "output_type": "execute_result"
    }
   ],
   "source": [
    "df2.shape # returns a tuple where the first item tells us how many rows are there and the second item tells us how many column."
   ]
  },
  {
   "cell_type": "code",
   "execution_count": 22,
   "metadata": {
    "colab": {
     "base_uri": "https://localhost:8080/"
    },
    "executionInfo": {
     "elapsed": 10,
     "status": "ok",
     "timestamp": 1677224980906,
     "user": {
      "displayName": "Akm Islam",
      "userId": "10887598172150809320"
     },
     "user_tz": 300
    },
    "id": "5fEHYOfHnIb4",
    "outputId": "f8b32707-a865-4af6-f2f9-27d164ac3b8a",
    "tags": []
   },
   "outputs": [
    {
     "data": {
      "text/plain": [
       "Index(['A', 'B', 'C', 'D', 'E'], dtype='object')"
      ]
     },
     "execution_count": 22,
     "metadata": {},
     "output_type": "execute_result"
    }
   ],
   "source": [
    "df2.columns # Prints the columns"
   ]
  },
  {
   "cell_type": "markdown",
   "metadata": {
    "id": "LIW6T9TJZsnQ"
   },
   "source": [
    "## Question 8\n",
    "In df2, Some rows have missing values in all columns. Drop these rows from the dataframe df2. After this operation, the shape of df2 will be (97, 5). "
   ]
  },
  {
   "cell_type": "code",
   "execution_count": 23,
   "metadata": {
    "deletable": false,
    "executionInfo": {
     "elapsed": 391,
     "status": "ok",
     "timestamp": 1677225085560,
     "user": {
      "displayName": "Akm Islam",
      "userId": "10887598172150809320"
     },
     "user_tz": 300
    },
    "id": "rmil9WlycMnc",
    "nbgrader": {
     "cell_type": "code",
     "checksum": "472050eb686cd90007f57742082caadd",
     "grade": false,
     "grade_id": "cell-6c51784e133ed6f6",
     "locked": false,
     "schema_version": 3,
     "solution": true,
     "task": false
    },
    "tags": []
   },
   "outputs": [
    {
     "data": {
      "text/plain": [
       "(97, 5)"
      ]
     },
     "execution_count": 23,
     "metadata": {},
     "output_type": "execute_result"
    }
   ],
   "source": [
    "# YOUR CODE HERE\n",
    "df2 = df2.dropna(how='all')\n",
    "df2.shape"
   ]
  },
  {
   "cell_type": "code",
   "execution_count": null,
   "metadata": {
    "colab": {
     "base_uri": "https://localhost:8080/"
    },
    "deletable": false,
    "editable": false,
    "executionInfo": {
     "elapsed": 181,
     "status": "ok",
     "timestamp": 1677225086146,
     "user": {
      "displayName": "Akm Islam",
      "userId": "10887598172150809320"
     },
     "user_tz": 300
    },
    "id": "FP1SLnQ_oSQd",
    "nbgrader": {
     "cell_type": "code",
     "checksum": "d1b7be933705efdfa921ece2dc88e41a",
     "grade": true,
     "grade_id": "cell-758e2c30a0611983",
     "locked": true,
     "points": 10,
     "schema_version": 3,
     "solution": false,
     "task": false
    },
    "outputId": "656b042a-e1a9-485e-a57e-b1d59bc3d092",
    "tags": []
   },
   "outputs": [],
   "source": []
  },
  {
   "attachments": {},
   "cell_type": "markdown",
   "metadata": {
    "id": "3sPB6sUTpbwZ"
   },
   "source": [
    "## Question 9\n",
    "In column E, there are three missing values. You can run the following code to see the total number of missing values of a column:\n",
    "\n",
    "df2['E'].isnull().sum()\n",
    "\n",
    "Write the code to replace the missing values of column E with the mean of the column. Your code will change df2 so you have to set the value of  the inplace parameter appropriately."
   ]
  },
  {
   "cell_type": "code",
   "execution_count": 28,
   "metadata": {
    "deletable": false,
    "executionInfo": {
     "elapsed": 178,
     "status": "ok",
     "timestamp": 1677225091375,
     "user": {
      "displayName": "Akm Islam",
      "userId": "10887598172150809320"
     },
     "user_tz": 300
    },
    "id": "QFf9XMHXputy",
    "nbgrader": {
     "cell_type": "code",
     "checksum": "330e1d6092e81c1588895ee0320c3644",
     "grade": false,
     "grade_id": "cell-3140620598e3ac44",
     "locked": false,
     "schema_version": 3,
     "solution": true,
     "task": false
    },
    "tags": []
   },
   "outputs": [
    {
     "data": {
      "text/html": [
       "<div>\n",
       "<style scoped>\n",
       "    .dataframe tbody tr th:only-of-type {\n",
       "        vertical-align: middle;\n",
       "    }\n",
       "\n",
       "    .dataframe tbody tr th {\n",
       "        vertical-align: top;\n",
       "    }\n",
       "\n",
       "    .dataframe thead th {\n",
       "        text-align: right;\n",
       "    }\n",
       "</style>\n",
       "<table border=\"1\" class=\"dataframe\">\n",
       "  <thead>\n",
       "    <tr style=\"text-align: right;\">\n",
       "      <th></th>\n",
       "      <th>A</th>\n",
       "      <th>B</th>\n",
       "      <th>C</th>\n",
       "      <th>D</th>\n",
       "      <th>E</th>\n",
       "    </tr>\n",
       "  </thead>\n",
       "  <tbody>\n",
       "    <tr>\n",
       "      <th>0</th>\n",
       "      <td>0.523312</td>\n",
       "      <td>1.320279</td>\n",
       "      <td>1.474605</td>\n",
       "      <td>1.198311</td>\n",
       "      <td>0.692239</td>\n",
       "    </tr>\n",
       "    <tr>\n",
       "      <th>1</th>\n",
       "      <td>1.190973</td>\n",
       "      <td>0.407880</td>\n",
       "      <td>0.941076</td>\n",
       "      <td>0.082033</td>\n",
       "      <td>0.183243</td>\n",
       "    </tr>\n",
       "    <tr>\n",
       "      <th>2</th>\n",
       "      <td>1.163413</td>\n",
       "      <td>1.917823</td>\n",
       "      <td>1.399499</td>\n",
       "      <td>0.000746</td>\n",
       "      <td>0.400787</td>\n",
       "    </tr>\n",
       "    <tr>\n",
       "      <th>4</th>\n",
       "      <td>1.796116</td>\n",
       "      <td>0.260222</td>\n",
       "      <td>1.472445</td>\n",
       "      <td>2.221177</td>\n",
       "      <td>0.790012</td>\n",
       "    </tr>\n",
       "    <tr>\n",
       "      <th>5</th>\n",
       "      <td>0.228419</td>\n",
       "      <td>0.625736</td>\n",
       "      <td>1.432648</td>\n",
       "      <td>0.612599</td>\n",
       "      <td>1.239951</td>\n",
       "    </tr>\n",
       "    <tr>\n",
       "      <th>...</th>\n",
       "      <td>...</td>\n",
       "      <td>...</td>\n",
       "      <td>...</td>\n",
       "      <td>...</td>\n",
       "      <td>...</td>\n",
       "    </tr>\n",
       "    <tr>\n",
       "      <th>95</th>\n",
       "      <td>0.663620</td>\n",
       "      <td>0.944651</td>\n",
       "      <td>0.413895</td>\n",
       "      <td>1.859505</td>\n",
       "      <td>0.739765</td>\n",
       "    </tr>\n",
       "    <tr>\n",
       "      <th>96</th>\n",
       "      <td>0.713766</td>\n",
       "      <td>0.513621</td>\n",
       "      <td>0.049574</td>\n",
       "      <td>0.333970</td>\n",
       "      <td>0.032721</td>\n",
       "    </tr>\n",
       "    <tr>\n",
       "      <th>97</th>\n",
       "      <td>0.942480</td>\n",
       "      <td>0.261189</td>\n",
       "      <td>0.015805</td>\n",
       "      <td>0.888358</td>\n",
       "      <td>1.526880</td>\n",
       "    </tr>\n",
       "    <tr>\n",
       "      <th>98</th>\n",
       "      <td>0.607793</td>\n",
       "      <td>1.148644</td>\n",
       "      <td>0.475321</td>\n",
       "      <td>0.700798</td>\n",
       "      <td>1.038997</td>\n",
       "    </tr>\n",
       "    <tr>\n",
       "      <th>99</th>\n",
       "      <td>0.207433</td>\n",
       "      <td>0.053647</td>\n",
       "      <td>0.628750</td>\n",
       "      <td>0.014544</td>\n",
       "      <td>1.007211</td>\n",
       "    </tr>\n",
       "  </tbody>\n",
       "</table>\n",
       "<p>97 rows × 5 columns</p>\n",
       "</div>"
      ],
      "text/plain": [
       "           A         B         C         D         E\n",
       "0   0.523312  1.320279  1.474605  1.198311  0.692239\n",
       "1   1.190973  0.407880  0.941076  0.082033  0.183243\n",
       "2   1.163413  1.917823  1.399499  0.000746  0.400787\n",
       "4   1.796116  0.260222  1.472445  2.221177  0.790012\n",
       "5   0.228419  0.625736  1.432648  0.612599  1.239951\n",
       "..       ...       ...       ...       ...       ...\n",
       "95  0.663620  0.944651  0.413895  1.859505  0.739765\n",
       "96  0.713766  0.513621  0.049574  0.333970  0.032721\n",
       "97  0.942480  0.261189  0.015805  0.888358  1.526880\n",
       "98  0.607793  1.148644  0.475321  0.700798  1.038997\n",
       "99  0.207433  0.053647  0.628750  0.014544  1.007211\n",
       "\n",
       "[97 rows x 5 columns]"
      ]
     },
     "execution_count": 28,
     "metadata": {},
     "output_type": "execute_result"
    }
   ],
   "source": [
    "# YOUR CODE HERE\n",
    "\n",
    "df2[\"E\"].fillna(df2[\"E\"].mean(), inplace=True)"
   ]
  },
  {
   "cell_type": "code",
   "execution_count": null,
   "metadata": {
    "colab": {
     "base_uri": "https://localhost:8080/"
    },
    "deletable": false,
    "editable": false,
    "executionInfo": {
     "elapsed": 9,
     "status": "ok",
     "timestamp": 1677225092442,
     "user": {
      "displayName": "Akm Islam",
      "userId": "10887598172150809320"
     },
     "user_tz": 300
    },
    "id": "kMOhJTyTrsdx",
    "nbgrader": {
     "cell_type": "code",
     "checksum": "e2bfef3f847dee9dead0d230bd39c927",
     "grade": true,
     "grade_id": "cell-c5b51ace824cf9fe",
     "locked": true,
     "points": 10,
     "schema_version": 3,
     "solution": false,
     "task": false
    },
    "outputId": "df3f249e-c6a8-45bd-a71e-7bcae8336bfa",
    "tags": []
   },
   "outputs": [],
   "source": []
  },
  {
   "cell_type": "markdown",
   "metadata": {
    "id": "4_yFZj6LXcMO"
   },
   "source": [
    "## Question 10\n",
    "Select the first 50 rows of columns 'A' and 'B' and Assign the selection to a variable called new_df. After the operation the variable new_df will have 2 columns and 50 rows. "
   ]
  },
  {
   "cell_type": "code",
   "execution_count": 25,
   "metadata": {
    "colab": {
     "base_uri": "https://localhost:8080/",
     "height": 1000
    },
    "deletable": false,
    "executionInfo": {
     "elapsed": 182,
     "status": "ok",
     "timestamp": 1677225115395,
     "user": {
      "displayName": "Akm Islam",
      "userId": "10887598172150809320"
     },
     "user_tz": 300
    },
    "id": "pzwxRubHYL32",
    "nbgrader": {
     "cell_type": "code",
     "checksum": "310dfc2ae5955033656bdfc04b6a6a11",
     "grade": false,
     "grade_id": "cell-1a18569f9e1eb358",
     "locked": false,
     "schema_version": 3,
     "solution": true,
     "task": false
    },
    "outputId": "86314e17-dab2-4058-de38-d5c7f94612ca",
    "tags": []
   },
   "outputs": [],
   "source": [
    "# YOUR CODE HERE\n",
    "new_df = df2.iloc[0:50, [0, 1]]"
   ]
  },
  {
   "cell_type": "code",
   "execution_count": null,
   "metadata": {
    "deletable": false,
    "editable": false,
    "id": "dbnVFGB3ZHtY",
    "nbgrader": {
     "cell_type": "code",
     "checksum": "c5a3887d27e92b00388b5cd0e16fa38c",
     "grade": true,
     "grade_id": "cell-936ddec67ca0607a",
     "locked": true,
     "points": 10,
     "schema_version": 3,
     "solution": false,
     "task": false
    },
    "tags": []
   },
   "outputs": [],
   "source": []
  }
 ],
 "metadata": {
  "colab": {
   "collapsed_sections": [
    "wZqSDniCWsV9"
   ],
   "provenance": []
  },
  "kernelspec": {
   "display_name": "Python 3",
   "language": "python",
   "name": "python3"
  },
  "language_info": {
   "codemirror_mode": {
    "name": "ipython",
    "version": 3
   },
   "file_extension": ".py",
   "mimetype": "text/x-python",
   "name": "python",
   "nbconvert_exporter": "python",
   "pygments_lexer": "ipython3",
   "version": "3.9.13"
  },
  "vscode": {
   "interpreter": {
    "hash": "4b4631bc6ad6bb0eba4f30c0d56ccbfc2548052f615441ff7b70ca46ba709c3c"
   }
  }
 },
 "nbformat": 4,
 "nbformat_minor": 4
}
