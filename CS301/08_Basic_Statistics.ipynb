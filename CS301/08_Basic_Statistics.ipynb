{
  "nbformat": 4,
  "nbformat_minor": 0,
  "metadata": {
    "colab": {
      "provenance": []
    },
    "kernelspec": {
      "name": "python3",
      "display_name": "Python 3"
    },
    "language_info": {
      "name": "python"
    },
    "widgets": {
      "application/vnd.jupyter.widget-state+json": {
        "3c48ec629f744dc59bc180b61da455f5": {
          "model_module": "@jupyter-widgets/controls",
          "model_name": "VBoxModel",
          "model_module_version": "1.5.0",
          "state": {
            "_dom_classes": [
              "widget-interact"
            ],
            "_model_module": "@jupyter-widgets/controls",
            "_model_module_version": "1.5.0",
            "_model_name": "VBoxModel",
            "_view_count": null,
            "_view_module": "@jupyter-widgets/controls",
            "_view_module_version": "1.5.0",
            "_view_name": "VBoxView",
            "box_style": "",
            "children": [
              "IPY_MODEL_d8ce0c5da2ff46808cbade2e5045161f",
              "IPY_MODEL_980d9217074f49c7aa0269fdd2bf912e",
              "IPY_MODEL_4667fe75262b4e2a94728d9a1d23eb25"
            ],
            "layout": "IPY_MODEL_b8d441775629480a900d54005a973178"
          }
        },
        "d8ce0c5da2ff46808cbade2e5045161f": {
          "model_module": "@jupyter-widgets/controls",
          "model_name": "IntSliderModel",
          "model_module_version": "1.5.0",
          "state": {
            "_dom_classes": [],
            "_model_module": "@jupyter-widgets/controls",
            "_model_module_version": "1.5.0",
            "_model_name": "IntSliderModel",
            "_view_count": null,
            "_view_module": "@jupyter-widgets/controls",
            "_view_module_version": "1.5.0",
            "_view_name": "IntSliderView",
            "continuous_update": false,
            "description": "Mean",
            "description_tooltip": null,
            "disabled": false,
            "layout": "IPY_MODEL_c9d7d35dbb98417ebb1e6f2715f22726",
            "max": 20,
            "min": 0,
            "orientation": "horizontal",
            "readout": true,
            "readout_format": "d",
            "step": 1,
            "style": "IPY_MODEL_556ea6df1d6b48af92be0f1a364fc593",
            "value": 3
          }
        },
        "980d9217074f49c7aa0269fdd2bf912e": {
          "model_module": "@jupyter-widgets/controls",
          "model_name": "IntSliderModel",
          "model_module_version": "1.5.0",
          "state": {
            "_dom_classes": [],
            "_model_module": "@jupyter-widgets/controls",
            "_model_module_version": "1.5.0",
            "_model_name": "IntSliderModel",
            "_view_count": null,
            "_view_module": "@jupyter-widgets/controls",
            "_view_module_version": "1.5.0",
            "_view_name": "IntSliderView",
            "continuous_update": false,
            "description": "Std",
            "description_tooltip": null,
            "disabled": false,
            "layout": "IPY_MODEL_42366a743479406fb3bc96232593d087",
            "max": 20,
            "min": 0,
            "orientation": "horizontal",
            "readout": true,
            "readout_format": "d",
            "step": 1,
            "style": "IPY_MODEL_81f6981c7b8044df9bfb487e9f2a9b3b",
            "value": 2
          }
        },
        "4667fe75262b4e2a94728d9a1d23eb25": {
          "model_module": "@jupyter-widgets/output",
          "model_name": "OutputModel",
          "model_module_version": "1.0.0",
          "state": {
            "_dom_classes": [],
            "_model_module": "@jupyter-widgets/output",
            "_model_module_version": "1.0.0",
            "_model_name": "OutputModel",
            "_view_count": null,
            "_view_module": "@jupyter-widgets/output",
            "_view_module_version": "1.0.0",
            "_view_name": "OutputView",
            "layout": "IPY_MODEL_42a1876dd20c41baa828593928393d9c",
            "msg_id": "",
            "outputs": [
              {
                "output_type": "display_data",
                "data": {
                  "text/plain": "<Figure size 720x288 with 1 Axes>",
                  "image/png": "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\n"
                },
                "metadata": {
                  "needs_background": "light"
                }
              }
            ]
          }
        },
        "b8d441775629480a900d54005a973178": {
          "model_module": "@jupyter-widgets/base",
          "model_name": "LayoutModel",
          "model_module_version": "1.2.0",
          "state": {
            "_model_module": "@jupyter-widgets/base",
            "_model_module_version": "1.2.0",
            "_model_name": "LayoutModel",
            "_view_count": null,
            "_view_module": "@jupyter-widgets/base",
            "_view_module_version": "1.2.0",
            "_view_name": "LayoutView",
            "align_content": null,
            "align_items": null,
            "align_self": null,
            "border": null,
            "bottom": null,
            "display": null,
            "flex": null,
            "flex_flow": null,
            "grid_area": null,
            "grid_auto_columns": null,
            "grid_auto_flow": null,
            "grid_auto_rows": null,
            "grid_column": null,
            "grid_gap": null,
            "grid_row": null,
            "grid_template_areas": null,
            "grid_template_columns": null,
            "grid_template_rows": null,
            "height": null,
            "justify_content": null,
            "justify_items": null,
            "left": null,
            "margin": null,
            "max_height": null,
            "max_width": null,
            "min_height": null,
            "min_width": null,
            "object_fit": null,
            "object_position": null,
            "order": null,
            "overflow": null,
            "overflow_x": null,
            "overflow_y": null,
            "padding": null,
            "right": null,
            "top": null,
            "visibility": null,
            "width": null
          }
        },
        "c9d7d35dbb98417ebb1e6f2715f22726": {
          "model_module": "@jupyter-widgets/base",
          "model_name": "LayoutModel",
          "model_module_version": "1.2.0",
          "state": {
            "_model_module": "@jupyter-widgets/base",
            "_model_module_version": "1.2.0",
            "_model_name": "LayoutModel",
            "_view_count": null,
            "_view_module": "@jupyter-widgets/base",
            "_view_module_version": "1.2.0",
            "_view_name": "LayoutView",
            "align_content": null,
            "align_items": null,
            "align_self": null,
            "border": null,
            "bottom": null,
            "display": null,
            "flex": null,
            "flex_flow": null,
            "grid_area": null,
            "grid_auto_columns": null,
            "grid_auto_flow": null,
            "grid_auto_rows": null,
            "grid_column": null,
            "grid_gap": null,
            "grid_row": null,
            "grid_template_areas": null,
            "grid_template_columns": null,
            "grid_template_rows": null,
            "height": null,
            "justify_content": null,
            "justify_items": null,
            "left": null,
            "margin": null,
            "max_height": null,
            "max_width": null,
            "min_height": null,
            "min_width": null,
            "object_fit": null,
            "object_position": null,
            "order": null,
            "overflow": null,
            "overflow_x": null,
            "overflow_y": null,
            "padding": null,
            "right": null,
            "top": null,
            "visibility": null,
            "width": null
          }
        },
        "556ea6df1d6b48af92be0f1a364fc593": {
          "model_module": "@jupyter-widgets/controls",
          "model_name": "SliderStyleModel",
          "model_module_version": "1.5.0",
          "state": {
            "_model_module": "@jupyter-widgets/controls",
            "_model_module_version": "1.5.0",
            "_model_name": "SliderStyleModel",
            "_view_count": null,
            "_view_module": "@jupyter-widgets/base",
            "_view_module_version": "1.2.0",
            "_view_name": "StyleView",
            "description_width": "",
            "handle_color": null
          }
        },
        "42366a743479406fb3bc96232593d087": {
          "model_module": "@jupyter-widgets/base",
          "model_name": "LayoutModel",
          "model_module_version": "1.2.0",
          "state": {
            "_model_module": "@jupyter-widgets/base",
            "_model_module_version": "1.2.0",
            "_model_name": "LayoutModel",
            "_view_count": null,
            "_view_module": "@jupyter-widgets/base",
            "_view_module_version": "1.2.0",
            "_view_name": "LayoutView",
            "align_content": null,
            "align_items": null,
            "align_self": null,
            "border": null,
            "bottom": null,
            "display": null,
            "flex": null,
            "flex_flow": null,
            "grid_area": null,
            "grid_auto_columns": null,
            "grid_auto_flow": null,
            "grid_auto_rows": null,
            "grid_column": null,
            "grid_gap": null,
            "grid_row": null,
            "grid_template_areas": null,
            "grid_template_columns": null,
            "grid_template_rows": null,
            "height": null,
            "justify_content": null,
            "justify_items": null,
            "left": null,
            "margin": null,
            "max_height": null,
            "max_width": null,
            "min_height": null,
            "min_width": null,
            "object_fit": null,
            "object_position": null,
            "order": null,
            "overflow": null,
            "overflow_x": null,
            "overflow_y": null,
            "padding": null,
            "right": null,
            "top": null,
            "visibility": null,
            "width": null
          }
        },
        "81f6981c7b8044df9bfb487e9f2a9b3b": {
          "model_module": "@jupyter-widgets/controls",
          "model_name": "SliderStyleModel",
          "model_module_version": "1.5.0",
          "state": {
            "_model_module": "@jupyter-widgets/controls",
            "_model_module_version": "1.5.0",
            "_model_name": "SliderStyleModel",
            "_view_count": null,
            "_view_module": "@jupyter-widgets/base",
            "_view_module_version": "1.2.0",
            "_view_name": "StyleView",
            "description_width": "",
            "handle_color": null
          }
        },
        "42a1876dd20c41baa828593928393d9c": {
          "model_module": "@jupyter-widgets/base",
          "model_name": "LayoutModel",
          "model_module_version": "1.2.0",
          "state": {
            "_model_module": "@jupyter-widgets/base",
            "_model_module_version": "1.2.0",
            "_model_name": "LayoutModel",
            "_view_count": null,
            "_view_module": "@jupyter-widgets/base",
            "_view_module_version": "1.2.0",
            "_view_name": "LayoutView",
            "align_content": null,
            "align_items": null,
            "align_self": null,
            "border": null,
            "bottom": null,
            "display": null,
            "flex": null,
            "flex_flow": null,
            "grid_area": null,
            "grid_auto_columns": null,
            "grid_auto_flow": null,
            "grid_auto_rows": null,
            "grid_column": null,
            "grid_gap": null,
            "grid_row": null,
            "grid_template_areas": null,
            "grid_template_columns": null,
            "grid_template_rows": null,
            "height": null,
            "justify_content": null,
            "justify_items": null,
            "left": null,
            "margin": null,
            "max_height": null,
            "max_width": null,
            "min_height": null,
            "min_width": null,
            "object_fit": null,
            "object_position": null,
            "order": null,
            "overflow": null,
            "overflow_x": null,
            "overflow_y": null,
            "padding": null,
            "right": null,
            "top": null,
            "visibility": null,
            "width": null
          }
        },
        "c27620348ed949feb934c37f76cd4520": {
          "model_module": "@jupyter-widgets/controls",
          "model_name": "VBoxModel",
          "model_module_version": "1.5.0",
          "state": {
            "_dom_classes": [
              "widget-interact"
            ],
            "_model_module": "@jupyter-widgets/controls",
            "_model_module_version": "1.5.0",
            "_model_name": "VBoxModel",
            "_view_count": null,
            "_view_module": "@jupyter-widgets/controls",
            "_view_module_version": "1.5.0",
            "_view_name": "VBoxView",
            "box_style": "",
            "children": [
              "IPY_MODEL_82c8d00ec476482fa54697b5dff4d369",
              "IPY_MODEL_a22e00c3a13746389878aaf8b63579f3",
              "IPY_MODEL_2624a68e3c0e47f98577795f0ed7c2f3"
            ],
            "layout": "IPY_MODEL_b8f12574e921427692dfa944474530a2"
          }
        },
        "82c8d00ec476482fa54697b5dff4d369": {
          "model_module": "@jupyter-widgets/controls",
          "model_name": "IntSliderModel",
          "model_module_version": "1.5.0",
          "state": {
            "_dom_classes": [],
            "_model_module": "@jupyter-widgets/controls",
            "_model_module_version": "1.5.0",
            "_model_name": "IntSliderModel",
            "_view_count": null,
            "_view_module": "@jupyter-widgets/controls",
            "_view_module_version": "1.5.0",
            "_view_name": "IntSliderView",
            "continuous_update": false,
            "description": "Mean",
            "description_tooltip": null,
            "disabled": false,
            "layout": "IPY_MODEL_016f524997c74e1b870350d676a15148",
            "max": 20,
            "min": 0,
            "orientation": "horizontal",
            "readout": true,
            "readout_format": "d",
            "step": 1,
            "style": "IPY_MODEL_761a294b45bb4bc7a410c22dc4024313",
            "value": 8
          }
        },
        "a22e00c3a13746389878aaf8b63579f3": {
          "model_module": "@jupyter-widgets/controls",
          "model_name": "IntSliderModel",
          "model_module_version": "1.5.0",
          "state": {
            "_dom_classes": [],
            "_model_module": "@jupyter-widgets/controls",
            "_model_module_version": "1.5.0",
            "_model_name": "IntSliderModel",
            "_view_count": null,
            "_view_module": "@jupyter-widgets/controls",
            "_view_module_version": "1.5.0",
            "_view_name": "IntSliderView",
            "continuous_update": false,
            "description": "Std",
            "description_tooltip": null,
            "disabled": false,
            "layout": "IPY_MODEL_7f145714698b4dcab70be08d42549a80",
            "max": 20,
            "min": 0,
            "orientation": "horizontal",
            "readout": true,
            "readout_format": "d",
            "step": 1,
            "style": "IPY_MODEL_aa1461cdd1ea487aa844a7d65dbf1160",
            "value": 1
          }
        },
        "2624a68e3c0e47f98577795f0ed7c2f3": {
          "model_module": "@jupyter-widgets/output",
          "model_name": "OutputModel",
          "model_module_version": "1.0.0",
          "state": {
            "_dom_classes": [],
            "_model_module": "@jupyter-widgets/output",
            "_model_module_version": "1.0.0",
            "_model_name": "OutputModel",
            "_view_count": null,
            "_view_module": "@jupyter-widgets/output",
            "_view_module_version": "1.0.0",
            "_view_name": "OutputView",
            "layout": "IPY_MODEL_32e79d5101e648ce95dfad43c77877cd",
            "msg_id": "",
            "outputs": [
              {
                "output_type": "display_data",
                "data": {
                  "text/plain": "<Figure size 720x288 with 1 Axes>",
                  "image/png": "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\n"
                },
                "metadata": {
                  "needs_background": "light"
                }
              }
            ]
          }
        },
        "b8f12574e921427692dfa944474530a2": {
          "model_module": "@jupyter-widgets/base",
          "model_name": "LayoutModel",
          "model_module_version": "1.2.0",
          "state": {
            "_model_module": "@jupyter-widgets/base",
            "_model_module_version": "1.2.0",
            "_model_name": "LayoutModel",
            "_view_count": null,
            "_view_module": "@jupyter-widgets/base",
            "_view_module_version": "1.2.0",
            "_view_name": "LayoutView",
            "align_content": null,
            "align_items": null,
            "align_self": null,
            "border": null,
            "bottom": null,
            "display": null,
            "flex": null,
            "flex_flow": null,
            "grid_area": null,
            "grid_auto_columns": null,
            "grid_auto_flow": null,
            "grid_auto_rows": null,
            "grid_column": null,
            "grid_gap": null,
            "grid_row": null,
            "grid_template_areas": null,
            "grid_template_columns": null,
            "grid_template_rows": null,
            "height": null,
            "justify_content": null,
            "justify_items": null,
            "left": null,
            "margin": null,
            "max_height": null,
            "max_width": null,
            "min_height": null,
            "min_width": null,
            "object_fit": null,
            "object_position": null,
            "order": null,
            "overflow": null,
            "overflow_x": null,
            "overflow_y": null,
            "padding": null,
            "right": null,
            "top": null,
            "visibility": null,
            "width": null
          }
        },
        "016f524997c74e1b870350d676a15148": {
          "model_module": "@jupyter-widgets/base",
          "model_name": "LayoutModel",
          "model_module_version": "1.2.0",
          "state": {
            "_model_module": "@jupyter-widgets/base",
            "_model_module_version": "1.2.0",
            "_model_name": "LayoutModel",
            "_view_count": null,
            "_view_module": "@jupyter-widgets/base",
            "_view_module_version": "1.2.0",
            "_view_name": "LayoutView",
            "align_content": null,
            "align_items": null,
            "align_self": null,
            "border": null,
            "bottom": null,
            "display": null,
            "flex": null,
            "flex_flow": null,
            "grid_area": null,
            "grid_auto_columns": null,
            "grid_auto_flow": null,
            "grid_auto_rows": null,
            "grid_column": null,
            "grid_gap": null,
            "grid_row": null,
            "grid_template_areas": null,
            "grid_template_columns": null,
            "grid_template_rows": null,
            "height": null,
            "justify_content": null,
            "justify_items": null,
            "left": null,
            "margin": null,
            "max_height": null,
            "max_width": null,
            "min_height": null,
            "min_width": null,
            "object_fit": null,
            "object_position": null,
            "order": null,
            "overflow": null,
            "overflow_x": null,
            "overflow_y": null,
            "padding": null,
            "right": null,
            "top": null,
            "visibility": null,
            "width": null
          }
        },
        "761a294b45bb4bc7a410c22dc4024313": {
          "model_module": "@jupyter-widgets/controls",
          "model_name": "SliderStyleModel",
          "model_module_version": "1.5.0",
          "state": {
            "_model_module": "@jupyter-widgets/controls",
            "_model_module_version": "1.5.0",
            "_model_name": "SliderStyleModel",
            "_view_count": null,
            "_view_module": "@jupyter-widgets/base",
            "_view_module_version": "1.2.0",
            "_view_name": "StyleView",
            "description_width": "",
            "handle_color": null
          }
        },
        "7f145714698b4dcab70be08d42549a80": {
          "model_module": "@jupyter-widgets/base",
          "model_name": "LayoutModel",
          "model_module_version": "1.2.0",
          "state": {
            "_model_module": "@jupyter-widgets/base",
            "_model_module_version": "1.2.0",
            "_model_name": "LayoutModel",
            "_view_count": null,
            "_view_module": "@jupyter-widgets/base",
            "_view_module_version": "1.2.0",
            "_view_name": "LayoutView",
            "align_content": null,
            "align_items": null,
            "align_self": null,
            "border": null,
            "bottom": null,
            "display": null,
            "flex": null,
            "flex_flow": null,
            "grid_area": null,
            "grid_auto_columns": null,
            "grid_auto_flow": null,
            "grid_auto_rows": null,
            "grid_column": null,
            "grid_gap": null,
            "grid_row": null,
            "grid_template_areas": null,
            "grid_template_columns": null,
            "grid_template_rows": null,
            "height": null,
            "justify_content": null,
            "justify_items": null,
            "left": null,
            "margin": null,
            "max_height": null,
            "max_width": null,
            "min_height": null,
            "min_width": null,
            "object_fit": null,
            "object_position": null,
            "order": null,
            "overflow": null,
            "overflow_x": null,
            "overflow_y": null,
            "padding": null,
            "right": null,
            "top": null,
            "visibility": null,
            "width": null
          }
        },
        "aa1461cdd1ea487aa844a7d65dbf1160": {
          "model_module": "@jupyter-widgets/controls",
          "model_name": "SliderStyleModel",
          "model_module_version": "1.5.0",
          "state": {
            "_model_module": "@jupyter-widgets/controls",
            "_model_module_version": "1.5.0",
            "_model_name": "SliderStyleModel",
            "_view_count": null,
            "_view_module": "@jupyter-widgets/base",
            "_view_module_version": "1.2.0",
            "_view_name": "StyleView",
            "description_width": "",
            "handle_color": null
          }
        },
        "32e79d5101e648ce95dfad43c77877cd": {
          "model_module": "@jupyter-widgets/base",
          "model_name": "LayoutModel",
          "model_module_version": "1.2.0",
          "state": {
            "_model_module": "@jupyter-widgets/base",
            "_model_module_version": "1.2.0",
            "_model_name": "LayoutModel",
            "_view_count": null,
            "_view_module": "@jupyter-widgets/base",
            "_view_module_version": "1.2.0",
            "_view_name": "LayoutView",
            "align_content": null,
            "align_items": null,
            "align_self": null,
            "border": null,
            "bottom": null,
            "display": null,
            "flex": null,
            "flex_flow": null,
            "grid_area": null,
            "grid_auto_columns": null,
            "grid_auto_flow": null,
            "grid_auto_rows": null,
            "grid_column": null,
            "grid_gap": null,
            "grid_row": null,
            "grid_template_areas": null,
            "grid_template_columns": null,
            "grid_template_rows": null,
            "height": null,
            "justify_content": null,
            "justify_items": null,
            "left": null,
            "margin": null,
            "max_height": null,
            "max_width": null,
            "min_height": null,
            "min_width": null,
            "object_fit": null,
            "object_position": null,
            "order": null,
            "overflow": null,
            "overflow_x": null,
            "overflow_y": null,
            "padding": null,
            "right": null,
            "top": null,
            "visibility": null,
            "width": null
          }
        }
      }
    }
  },
  "cells": [
    {
      "cell_type": "markdown",
      "source": [
        "[Python Statistics Fundamentals: How to Describe Your Data](https://realpython.com/python-statistics/)"
      ],
      "metadata": {
        "id": "43Fij6cGj9a-"
      }
    },
    {
      "cell_type": "code",
      "source": [
        "import matplotlib.pyplot as plt\n",
        "import numpy as np\n",
        "%matplotlib inline "
      ],
      "metadata": {
        "id": "0ODKEH6QXA5N"
      },
      "execution_count": null,
      "outputs": []
    },
    {
      "cell_type": "markdown",
      "source": [
        "# [Measures of Central Tendency](https://statistics.laerd.com/statistical-guides/measures-central-tendency-mean-mode-median.php)\n",
        "*   Mean\n",
        "*   Median\n",
        "*   Mode\n",
        "\n",
        "[FAQs - Measures of Central Tendency](https://statistics.laerd.com/statistical-guides/measures-central-tendency-mean-mode-median-faqs.php)"
      ],
      "metadata": {
        "id": "ooCzFh5Mke-R"
      }
    },
    {
      "cell_type": "markdown",
      "source": [
        "# Mean"
      ],
      "metadata": {
        "id": "sHz0nu0MfOPe"
      }
    },
    {
      "cell_type": "code",
      "source": [
        "# The effect of outlier  \n",
        "fig,axes=plt.subplots(1,2,figsize=[10,4])\n",
        "x1 = [5, 8, 10,12,16,14,7,18,20,48,58]\n",
        "axes[0].plot(x1,[1]*len(x1),'go',alpha=0.5,markersize=12)\n",
        "axes[0].set_yticks([])\n",
        "axes[0].set_xlim([0,np.max(x1)+5])\n",
        "axes[0].set_ylim([0,5])\n",
        "axes[0].spines[['left','right', 'top']].set_visible(False)\n",
        "axes[0].axvline(x=np.mean(x1), ymin=0.05, ymax=0.35,alpha=0.5,color='red',ls='-')\n",
        "axes[0].text(x=0,y=2.5,s='data='+str(x1)+\"\\n\"+'mean='+str(round(np.mean(x1),2)))\n",
        "#--------------------------------\n",
        "x2 = [5, 8, 10,12,16,14,7,18,20]\n",
        "axes[1].plot(x2,[1]*len(x2),'go',alpha=0.5,markersize=12)\n",
        "axes[1].set_yticks([])\n",
        "axes[1].set_xlim([0,np.max(x1)+5])\n",
        "axes[1].set_ylim([0,5])\n",
        "axes[1].spines[['left','right', 'top']].set_visible(False)\n",
        "axes[1].axvline(x=np.mean(x2), ymin=0.05, ymax=0.35,alpha=0.5,color='red',ls='-')\n",
        "axes[1].text(x=0,y=2.5,s='data='+str(x2)+\"\\n\"+'mean='+str(round(np.mean(x2),2)))"
      ],
      "metadata": {
        "colab": {
          "base_uri": "https://localhost:8080/",
          "height": 282
        },
        "id": "DZGY4TfBWxIZ",
        "outputId": "cdc4bde5-c11a-416f-f51d-d3b646da1ba1"
      },
      "execution_count": null,
      "outputs": [
        {
          "output_type": "execute_result",
          "data": {
            "text/plain": [
              "Text(0, 2.5, 'data=[5, 8, 10, 12, 16, 14, 7, 18, 20]\\nmean=12.22')"
            ]
          },
          "metadata": {},
          "execution_count": 3
        },
        {
          "output_type": "display_data",
          "data": {
            "text/plain": [
              "<Figure size 720x288 with 2 Axes>"
            ],
            "image/png": "[encoded data removed]"
          },
          "metadata": {
            "needs_background": "light"
          }
        }
      ]
    },
    {
      "cell_type": "markdown",
      "source": [
        "# Median"
      ],
      "metadata": {
        "id": "qx1JrfbxiFgL"
      }
    },
    {
      "cell_type": "code",
      "source": [
        "fig,axes=plt.subplots(1,2,figsize=[10,4])\n",
        "x1 = [5, 8, 10,12,16,14,7,18,20,48,58]\n",
        "axes[0].plot(x1,[1]*len(x1),'go',alpha=0.5,markersize=12)\n",
        "axes[0].set_yticks([])\n",
        "axes[0].set_xlim([0,np.max(x1)+5])\n",
        "axes[0].set_ylim([0,5])\n",
        "axes[0].spines[['left','right', 'top']].set_visible(False)\n",
        "axes[0].axvline(x=np.median(x1), ymin=0.05, ymax=0.35,alpha=0.5,color='black',ls='--')\n",
        "axes[0].text(x=0,y=2.5,s='data='+str(x1)+\"\\n\"+'median='+str(round(np.median(x1),2)))\n",
        "axes[0].text(x=0,y=2.2,s='mean='+str(round(np.mean(x1),2)))\n",
        "#--------------------------------\n",
        "x2 = [5, 8, 10,12,16,14,7,18,20]\n",
        "axes[1].plot(x2,[1]*len(x2),'go',alpha=0.5,markersize=12)\n",
        "axes[1].set_yticks([])\n",
        "axes[1].set_xlim([0,np.max(x1)+5])\n",
        "axes[1].set_ylim([0,5])\n",
        "axes[1].spines[['left','right', 'top']].set_visible(False)\n",
        "axes[1].axvline(x=np.median(x2), ymin=0.05, ymax=0.35,alpha=0.5,color='black',ls='--')\n",
        "axes[1].text(x=0,y=2.5,s='data='+str(x2)+\"\\n\"+'median='+str(round(np.median(x2),2)))\n",
        "axes[1].text(x=0,y=2.2,s='mean='+str(round(np.mean(x2),2)))"
      ],
      "metadata": {
        "colab": {
          "base_uri": "https://localhost:8080/",
          "height": 282
        },
        "id": "F4XT2HdUf6N1",
        "outputId": "74964bff-03b5-42d3-8d01-0916d4144872"
      },
      "execution_count": null,
      "outputs": [
        {
          "output_type": "execute_result",
          "data": {
            "text/plain": [
              "Text(0, 2.2, 'mean=12.22')"
            ]
          },
          "metadata": {},
          "execution_count": 4
        },
        {
          "output_type": "display_data",
          "data": {
            "text/plain": [
              "<Figure size 720x288 with 2 Axes>"
            ],
            "image/png": "[encoded data removed]"
          },
          "metadata": {
            "needs_background": "light"
          }
        }
      ]
    },
    {
      "cell_type": "code",
      "source": [
        "fig,axes=plt.subplots(1,2,figsize=[10,4])\n",
        "x1 = [5, 8, 10,12,16,14,7,18,20,48,58]\n",
        "axes[0].plot(x1,[1]*len(x1),'go',alpha=0.5,markersize=12)\n",
        "axes[0].set_yticks([])\n",
        "axes[0].set_xlim([0,np.max(x1)+5])\n",
        "axes[0].set_ylim([0,5])\n",
        "axes[0].spines[['left','right', 'top']].set_visible(False)\n",
        "axes[0].axvline(x=np.mean(x1), ymin=0.05, ymax=0.35,alpha=0.5,color='red',ls='-')\n",
        "axes[0].axvline(x=np.median(x1), ymin=0.05, ymax=0.35,alpha=0.5,color='black',ls='--')\n",
        "\n",
        "#--------------------------------\n",
        "x2 = [5, 8, 10,12,16,14,7,18,20]\n",
        "axes[1].plot(x2,[1]*len(x2),'go',alpha=0.5,markersize=12)\n",
        "axes[1].set_yticks([])\n",
        "axes[1].set_xlim([0,np.max(x1)+5])\n",
        "axes[1].set_ylim([0,5])\n",
        "axes[1].spines[['left','right', 'top']].set_visible(False)\n",
        "axes[1].axvline(x=np.mean(x2), ymin=0.05, ymax=0.35,alpha=0.5,color='red',ls='-')\n",
        "axes[1].axvline(x=np.median(x2), ymin=0.05, ymax=0.35,alpha=0.5,color='black',ls='--')"
      ],
      "metadata": {
        "colab": {
          "base_uri": "https://localhost:8080/",
          "height": 282
        },
        "id": "wgejNAXpiUms",
        "outputId": "13f621dc-8976-4473-af13-871e06b83089"
      },
      "execution_count": null,
      "outputs": [
        {
          "output_type": "execute_result",
          "data": {
            "text/plain": [
              "<matplotlib.lines.Line2D at 0x7f3f64367790>"
            ]
          },
          "metadata": {},
          "execution_count": 5
        },
        {
          "output_type": "display_data",
          "data": {
            "text/plain": [
              "<Figure size 720x288 with 2 Axes>"
            ],
            "image/png": "[encoded data removed]"
          },
          "metadata": {
            "needs_background": "light"
          }
        }
      ]
    },
    {
      "cell_type": "code",
      "source": [],
      "metadata": {
        "id": "4voiCM0viuu6"
      },
      "execution_count": null,
      "outputs": []
    },
    {
      "cell_type": "markdown",
      "source": [
        "# Measures of Variability"
      ],
      "metadata": {
        "id": "boK9u6GdqWX_"
      }
    },
    {
      "cell_type": "code",
      "source": [
        "fig,axes=plt.subplots(1,2,figsize=[10,4])\n",
        "x1 = np.random.normal(3, 0.5, 100)\n",
        "axes[0].plot(x1,'go',alpha=0.3,markersize=12)\n",
        "axes[0].set_xticks([])\n",
        "axes[0].set_ylim([-10,10])\n",
        "axes[0].spines[['bottom','right', 'top']].set_visible(False)\n",
        "axes[0].axhline(y=np.mean(x2), alpha=0.5,color='black',ls='--')\n",
        "axes[0].text(x=0,y=6,s='mean='+str(round(np.mean(x1),2)))\n",
        "\n",
        "#--------------------------------\n",
        "x2 = np.random.normal(3, 3, 100)\n",
        "axes[1].plot(x2,'go',alpha=0.5,markersize=12)\n",
        "axes[1].set_xticks([])\n",
        "axes[1].set_ylim([-10,10])\n",
        "axes[1].spines[['bottom','right', 'top']].set_visible(False)\n",
        "axes[1].axhline(y=np.mean(x2), alpha=0.3,color='black',ls='--')\n",
        "axes[1].text(x=0,y=6,s='mean='+str(round(np.mean(x2),2)))"
      ],
      "metadata": {
        "id": "bttgU2EtqXOx",
        "colab": {
          "base_uri": "https://localhost:8080/",
          "height": 275
        },
        "outputId": "b5793912-b596-4e4b-d5e2-274dc83f9966"
      },
      "execution_count": null,
      "outputs": [
        {
          "output_type": "execute_result",
          "data": {
            "text/plain": [
              "Text(0, 6, 'mean=2.9')"
            ]
          },
          "metadata": {},
          "execution_count": 6
        },
        {
          "output_type": "display_data",
          "data": {
            "text/plain": [
              "<Figure size 720x288 with 2 Axes>"
            ],
            "image/png": "[encoded data removed]"
          },
          "metadata": {
            "needs_background": "light"
          }
        }
      ]
    },
    {
      "cell_type": "markdown",
      "source": [
        "*   Variance\n",
        "$$\n",
        "\\operatorname {Var} (X)={\\frac {1}{n}}\\sum _{i=1}^{n}(x_{i}-\\mu )^{2}\n",
        "$$\n",
        "\n",
        "*   Standard deviation\n",
        "$$\n",
        "{\\displaystyle \\sigma ={\\sqrt {{Var(X)}}}}\n",
        "$$"
      ],
      "metadata": {
        "id": "gR4meA9eOgLA"
      }
    },
    {
      "cell_type": "code",
      "source": [
        "import ipywidgets as widgets\n",
        "mean_slider = widgets.IntSlider(value=3,min=0,max=20,step=1,description='Mean',continuous_update=False,orientation='horizontal')\n",
        "std_slider = widgets.IntSlider(value=2,min=0,max=20,step=1,description='Std',continuous_update=False,orientation='horizontal')\n",
        "def genPlot(mean,std):\n",
        "  #np.random.seed(mean)\n",
        "  fig,ax=plt.subplots(figsize=[10,4])\n",
        "  x1=np.random.normal(mean, std, 30)\n",
        "  ax.plot(x1,'go',alpha=0.5,markersize=12)\n",
        "  ax.axhline(y=np.mean(x1), alpha=0.5,color='black',ls='--')\n",
        "  ax.spines[['bottom','right', 'top']].set_visible(False)\n",
        "  ax.set_xticks([])\n",
        "  ax.set_ylim([-10,10])\n",
        "\n",
        "widgets.interact(genPlot, std = std_slider,mean = mean_slider)"
      ],
      "metadata": {
        "colab": {
          "base_uri": "https://localhost:8080/",
          "height": 339,
          "referenced_widgets": [
            "3c48ec629f744dc59bc180b61da455f5",
            "d8ce0c5da2ff46808cbade2e5045161f",
            "980d9217074f49c7aa0269fdd2bf912e",
            "4667fe75262b4e2a94728d9a1d23eb25",
            "b8d441775629480a900d54005a973178",
            "c9d7d35dbb98417ebb1e6f2715f22726",
            "556ea6df1d6b48af92be0f1a364fc593",
            "42366a743479406fb3bc96232593d087",
            "81f6981c7b8044df9bfb487e9f2a9b3b",
            "42a1876dd20c41baa828593928393d9c"
          ]
        },
        "id": "Ni6vGiNEVfLu",
        "outputId": "002dc378-bbe7-4492-a3d3-fbe86b5dd6b5"
      },
      "execution_count": null,
      "outputs": [
        {
          "output_type": "display_data",
          "data": {
            "text/plain": [
              "interactive(children=(IntSlider(value=3, continuous_update=False, description='Mean', max=20), IntSlider(value…"
            ],
            "application/vnd.jupyter.widget-view+json": {
              "version_major": 2,
              "version_minor": 0,
              "model_id": "3c48ec629f744dc59bc180b61da455f5"
            }
          },
          "metadata": {}
        },
        {
          "output_type": "execute_result",
          "data": {
            "text/plain": [
              "<function __main__.genPlot(mean, std)>"
            ]
          },
          "metadata": {},
          "execution_count": 7
        }
      ]
    },
    {
      "cell_type": "code",
      "source": [
        "x1=np.random.normal(2, 0, 20)\n",
        "x1.mean()"
      ],
      "metadata": {
        "colab": {
          "base_uri": "https://localhost:8080/"
        },
        "id": "t_fV_ZbxZOh6",
        "outputId": "4c699f03-9a58-4a2d-c505-f38671585f37"
      },
      "execution_count": null,
      "outputs": [
        {
          "output_type": "execute_result",
          "data": {
            "text/plain": [
              "2.0"
            ]
          },
          "metadata": {},
          "execution_count": 8
        }
      ]
    },
    {
      "cell_type": "markdown",
      "source": [
        "# Measures of Correlation Between Pairs of Data"
      ],
      "metadata": {
        "id": "mc1U9vvsrmeF"
      }
    },
    {
      "cell_type": "code",
      "source": [
        "x=np.arange(10)\n",
        "y=x*2\n",
        "print(x,y,sep=\"\\n\")\n",
        "fig,ax=plt.subplots(figsize=[10,4])\n",
        "ax.plot(x,y,'go',alpha=0.5,markersize=12)\n",
        "ax.spines[['right', 'top']].set_visible(False)"
      ],
      "metadata": {
        "colab": {
          "base_uri": "https://localhost:8080/",
          "height": 300
        },
        "id": "eMr_Jx0pBCPg",
        "outputId": "e13d97b0-8345-4b03-b55a-db610977d1c0"
      },
      "execution_count": null,
      "outputs": [
        {
          "output_type": "stream",
          "name": "stdout",
          "text": [
            "[0 1 2 3 4 5 6 7 8 9]\n",
            "[ 0  2  4  6  8 10 12 14 16 18]\n"
          ]
        },
        {
          "output_type": "display_data",
          "data": {
            "text/plain": [
              "<Figure size 720x288 with 1 Axes>"
            ],
            "image/png": "[encoded data removed]"
          },
          "metadata": {
            "needs_background": "light"
          }
        }
      ]
    },
    {
      "cell_type": "code",
      "source": [
        "x=np.arange(10)\n",
        "y=-x*2\n",
        "print(x,y,sep=\"\\n\")\n",
        "fig,ax=plt.subplots(figsize=[10,4])\n",
        "ax.plot(x,y,'go',alpha=0.5,markersize=12)\n",
        "ax.spines[['right', 'top']].set_visible(False)"
      ],
      "metadata": {
        "colab": {
          "base_uri": "https://localhost:8080/",
          "height": 300
        },
        "id": "TU9a9auJdxIm",
        "outputId": "3ce60246-f473-4a51-f9cc-1f669663b379"
      },
      "execution_count": null,
      "outputs": [
        {
          "output_type": "stream",
          "name": "stdout",
          "text": [
            "[0 1 2 3 4 5 6 7 8 9]\n",
            "[  0  -2  -4  -6  -8 -10 -12 -14 -16 -18]\n"
          ]
        },
        {
          "output_type": "display_data",
          "data": {
            "text/plain": [
              "<Figure size 720x288 with 1 Axes>"
            ],
            "image/png": "[encoded data removed]"
          },
          "metadata": {
            "needs_background": "light"
          }
        }
      ]
    },
    {
      "cell_type": "code",
      "source": [
        "x=np.arange(10)\n",
        "y=[5]*len(x)\n",
        "print(x,y,sep=\"\\n\")\n",
        "fig,ax=plt.subplots(figsize=[10,4])\n",
        "ax.plot(x,y,'go',alpha=0.5,markersize=12)\n",
        "ax.spines[['right', 'top']].set_visible(False)"
      ],
      "metadata": {
        "colab": {
          "base_uri": "https://localhost:8080/",
          "height": 300
        },
        "id": "REb-lXeYeOQ9",
        "outputId": "9dc8e371-8cd3-49c8-949b-502e87fae5b8"
      },
      "execution_count": null,
      "outputs": [
        {
          "output_type": "stream",
          "name": "stdout",
          "text": [
            "[0 1 2 3 4 5 6 7 8 9]\n",
            "[5, 5, 5, 5, 5, 5, 5, 5, 5, 5]\n"
          ]
        },
        {
          "output_type": "display_data",
          "data": {
            "text/plain": [
              "<Figure size 720x288 with 1 Axes>"
            ],
            "image/png": "[encoded data removed]"
          },
          "metadata": {
            "needs_background": "light"
          }
        }
      ]
    },
    {
      "cell_type": "markdown",
      "source": [
        "## Pearson's correlation coefficient\n",
        "$$\n",
        "r_{xy}={\\frac {\\sum _{i=1}^{n}(x_{i}-{\\bar {x}})(y_{i}-{\\bar {y}})}{{\\sqrt {\\sum _{i=1}^{n}(x_{i}-{\\bar {x}})^{2}}}{\\sqrt {\\sum _{i=1}^{n}(y_{i}-{\\bar {y}})^{2}}}}}\n",
        "$$\n",
        "\n",
        "The value of r rnages from -1 to 1\n",
        "*   A correlation coefficient of 1 means that for an increase in variable x there is a positive increase in y.\n",
        "*   A correlation coefficient of -1 means that for an increase in variable x there is a decrease in y.\n",
        "*   A correlation coefficient of 0 means there is no relationship between x and y."
      ],
      "metadata": {
        "id": "EmxR-uKhfWAT"
      }
    },
    {
      "cell_type": "markdown",
      "source": [
        "# The Normal Distribution"
      ],
      "metadata": {
        "id": "9FmP4B9Azd-M"
      }
    },
    {
      "cell_type": "code",
      "source": [
        "import ipywidgets as widgets\n",
        "mean_slider = widgets.IntSlider(value=5,min=0,max=20,step=1,description='Mean',continuous_update=False,orientation='horizontal')\n",
        "std_slider = widgets.IntSlider(value=1,min=0,max=20,step=1,description='Std',continuous_update=False,orientation='horizontal')\n",
        "def genPlot(mean,std):\n",
        "  fig,ax=plt.subplots(figsize=[10,4])\n",
        "  data=np.random.normal(mean, std, 100)\n",
        "  ax.hist(data)\n",
        "  ax.set_xlim([-30,30])\n",
        "  ax.axvline(x=np.mean(data), alpha=0.7,color='black',ls='--')\n",
        "  \n",
        "widgets.interact(genPlot, std = std_slider,mean = mean_slider)"
      ],
      "metadata": {
        "id": "ZOoxGB7AzcA7",
        "colab": {
          "base_uri": "https://localhost:8080/",
          "height": 349,
          "referenced_widgets": [
            "c27620348ed949feb934c37f76cd4520",
            "82c8d00ec476482fa54697b5dff4d369",
            "a22e00c3a13746389878aaf8b63579f3",
            "2624a68e3c0e47f98577795f0ed7c2f3",
            "b8f12574e921427692dfa944474530a2",
            "016f524997c74e1b870350d676a15148",
            "761a294b45bb4bc7a410c22dc4024313",
            "7f145714698b4dcab70be08d42549a80",
            "aa1461cdd1ea487aa844a7d65dbf1160",
            "32e79d5101e648ce95dfad43c77877cd"
          ]
        },
        "outputId": "d2eecf18-027d-410f-c963-6d14f46ef657"
      },
      "execution_count": null,
      "outputs": [
        {
          "output_type": "display_data",
          "data": {
            "text/plain": [
              "interactive(children=(IntSlider(value=5, continuous_update=False, description='Mean', max=20), IntSlider(value…"
            ],
            "application/vnd.jupyter.widget-view+json": {
              "version_major": 2,
              "version_minor": 0,
              "model_id": "c27620348ed949feb934c37f76cd4520"
            }
          },
          "metadata": {}
        },
        {
          "output_type": "execute_result",
          "data": {
            "text/plain": [
              "<function __main__.genPlot(mean, std)>"
            ]
          },
          "metadata": {},
          "execution_count": 9
        }
      ]
    },
    {
      "cell_type": "code",
      "source": [],
      "metadata": {
        "id": "AUpIvxv-zx5r"
      },
      "execution_count": null,
      "outputs": []
    }
  ]
}