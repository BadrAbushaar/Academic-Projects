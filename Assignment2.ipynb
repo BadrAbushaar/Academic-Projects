{
 "cells": [
  {
   "cell_type": "markdown",
   "metadata": {},
   "source": [
    "Before you turn this assignment in, make sure you fill in any place that says `YOUR CODE HERE` , as well as your `Name and Section`. \n",
    "\n",
    "Don't delete or alter the empty cells; they contain the test cases. If you delete any of them, you will recieve 0.\n",
    "\n",
    "If the question asks you to asign the returned value to a variable, use the same variable name as mentioned.\n"
   ]
  },
  {
   "cell_type": "code",
   "execution_count": 2,
   "metadata": {},
   "outputs": [],
   "source": [
    "NAME = \"Badr Abushaar\"\n",
    "Section=\"104\""
   ]
  },
  {
   "cell_type": "markdown",
   "metadata": {},
   "source": [
    "---"
   ]
  },
  {
   "cell_type": "code",
   "execution_count": 1,
   "metadata": {
    "id": "4mZstg9HntJt",
    "tags": []
   },
   "outputs": [],
   "source": [
    "import pandas as pd\n",
    "import numpy as np\n",
    "import math"
   ]
  },
  {
   "cell_type": "markdown",
   "metadata": {
    "id": "hH9FSQGHkInD"
   },
   "source": [
    "# Problem 1"
   ]
  },
  {
   "cell_type": "markdown",
   "metadata": {
    "id": "NDLZlANcbTou"
   },
   "source": [
    "Write a function named **filterDf** that takes three parameters\n",
    "\n",
    "*   **df_obj**, a dataframe object\n",
    "*   **column_name**, a categorical column name.\n",
    "*   **cat**, a category in the categorical column\n",
    "\n",
    "Your function will filter the given dataframe based on the value of **cat** of the categorical column and return the filtered dataframe.\n"
   ]
  },
  {
   "cell_type": "code",
   "execution_count": 33,
   "metadata": {
    "deletable": false,
    "id": "1MKRvp3Wpjr8",
    "nbgrader": {
     "cell_type": "code",
     "checksum": "9e75802f70566f713ace8ae8bd2044da",
     "grade": false,
     "grade_id": "cell-2ba00dc0e2f39ed1",
     "locked": false,
     "schema_version": 3,
     "solution": true,
     "task": false
    },
    "tags": []
   },
   "outputs": [],
   "source": [
    "def filterDf(df_obj,column_name,cat):\n",
    "    # YOUR CODE HERE\n",
    "    filtered_df = df_obj[df_obj[column_name] == cat]\n",
    "    return filtered_df"
   ]
  },
  {
   "cell_type": "markdown",
   "metadata": {
    "id": "wUF6sU3Zx56m"
   },
   "source": [
    "## Test Case"
   ]
  },
  {
   "cell_type": "code",
   "execution_count": 34,
   "metadata": {
    "colab": {
     "base_uri": "https://localhost:8080/",
     "height": 175
    },
    "id": "eXRFtFnea1-2",
    "outputId": "34de6a54-feb0-49dd-a9fd-16f0ef7f2d84",
    "tags": []
   },
   "outputs": [
    {
     "data": {
      "text/html": [
       "<div>\n",
       "<style scoped>\n",
       "    .dataframe tbody tr th:only-of-type {\n",
       "        vertical-align: middle;\n",
       "    }\n",
       "\n",
       "    .dataframe tbody tr th {\n",
       "        vertical-align: top;\n",
       "    }\n",
       "\n",
       "    .dataframe thead th {\n",
       "        text-align: right;\n",
       "    }\n",
       "</style>\n",
       "<table border=\"1\" class=\"dataframe\">\n",
       "  <thead>\n",
       "    <tr style=\"text-align: right;\">\n",
       "      <th></th>\n",
       "      <th>A</th>\n",
       "      <th>B</th>\n",
       "      <th>C</th>\n",
       "    </tr>\n",
       "  </thead>\n",
       "  <tbody>\n",
       "    <tr>\n",
       "      <th>0</th>\n",
       "      <td>1</td>\n",
       "      <td>10</td>\n",
       "      <td>x</td>\n",
       "    </tr>\n",
       "    <tr>\n",
       "      <th>1</th>\n",
       "      <td>6</td>\n",
       "      <td>20</td>\n",
       "      <td>x</td>\n",
       "    </tr>\n",
       "    <tr>\n",
       "      <th>2</th>\n",
       "      <td>11</td>\n",
       "      <td>30</td>\n",
       "      <td>x</td>\n",
       "    </tr>\n",
       "    <tr>\n",
       "      <th>3</th>\n",
       "      <td>16</td>\n",
       "      <td>40</td>\n",
       "      <td>x</td>\n",
       "    </tr>\n",
       "  </tbody>\n",
       "</table>\n",
       "</div>"
      ],
      "text/plain": [
       "    A   B  C\n",
       "0   1  10  x\n",
       "1   6  20  x\n",
       "2  11  30  x\n",
       "3  16  40  x"
      ]
     },
     "execution_count": 34,
     "metadata": {},
     "output_type": "execute_result"
    }
   ],
   "source": [
    "# This cell is for you to test your answer\n",
    "df=pd.DataFrame({\n",
    "    'A':range(1,45,5),\n",
    "    'B':range(10,99,10),\n",
    "    'C':4*['x']+['y']*3+['z']*2\n",
    "})\n",
    "filterDf(df,'C','x')\n",
    "# If your function works properly, you will see the following output"
   ]
  },
  {
   "cell_type": "code",
   "execution_count": null,
   "metadata": {
    "deletable": false,
    "editable": false,
    "id": "oNOpq8l9kHm5",
    "nbgrader": {
     "cell_type": "code",
     "checksum": "6f1b710bc556fe03b77a5ab2e1eb361a",
     "grade": true,
     "grade_id": "Q1",
     "locked": true,
     "points": 25,
     "schema_version": 3,
     "solution": false,
     "task": false
    },
    "tags": []
   },
   "outputs": [],
   "source": [
    "# Don't delete or alter this cell"
   ]
  },
  {
   "cell_type": "markdown",
   "metadata": {
    "id": "QZWwZfGRkien"
   },
   "source": [
    "# Problem 2\n",
    "Write a function named **getMissingValStats** that takes one parameter\n",
    "\n",
    "*   **df_obj,** a dataframe object\n",
    "\n",
    "Your function will find the number of missing values in each column of the df_obj and return a series where the indices will be the column names and the values will be the number of missing values in the column."
   ]
  },
  {
   "cell_type": "code",
   "execution_count": 42,
   "metadata": {
    "deletable": false,
    "id": "fK45nik3AIha",
    "nbgrader": {
     "cell_type": "code",
     "checksum": "d6f19a68bb4e8b1db49084dc21d4f050",
     "grade": false,
     "grade_id": "cell-db4b24efed82713c",
     "locked": false,
     "schema_version": 3,
     "solution": true,
     "task": false
    },
    "tags": []
   },
   "outputs": [],
   "source": [
    "def getMissingValStats(df_obj):\n",
    "    # YOUR CODE HERE\n",
    "    missingSeries = df_obj.isna().sum()\n",
    "    return missingSeries\n"
   ]
  },
  {
   "cell_type": "markdown",
   "metadata": {
    "id": "E4RgHFsbx-UE"
   },
   "source": [
    "## Test Case"
   ]
  },
  {
   "cell_type": "code",
   "execution_count": 43,
   "metadata": {
    "colab": {
     "base_uri": "https://localhost:8080/"
    },
    "id": "5MO84EglklXW",
    "outputId": "a19fb86d-ced4-4cbc-d2a1-5e78584cc2af",
    "tags": []
   },
   "outputs": [
    {
     "data": {
      "text/plain": [
       "A    3\n",
       "B    2\n",
       "D    0\n",
       "dtype: int64"
      ]
     },
     "execution_count": 43,
     "metadata": {},
     "output_type": "execute_result"
    }
   ],
   "source": [
    "# This cell is for you to test your answer\n",
    "df=pd.DataFrame({\n",
    "    'A':[1,np.nan,2,np.nan,np.nan],\n",
    "    'B':[10,np.nan,np.nan,32,14],\n",
    "    'D':[10,40,20,32,114],\n",
    "})\n",
    "getMissingValStats(df)\n",
    "# If your function works properly, you will see the following output"
   ]
  },
  {
   "cell_type": "code",
   "execution_count": null,
   "metadata": {
    "deletable": false,
    "editable": false,
    "nbgrader": {
     "cell_type": "code",
     "checksum": "d8fa8d74b207a3786cbffd4642f94c27",
     "grade": true,
     "grade_id": "Q2",
     "locked": true,
     "points": 25,
     "schema_version": 3,
     "solution": false,
     "task": false
    },
    "tags": []
   },
   "outputs": [],
   "source": [
    "# Don't delete or alter this cell"
   ]
  },
  {
   "cell_type": "markdown",
   "metadata": {
    "id": "NjYDiYI1vypJ"
   },
   "source": [
    "# Problem 3\n",
    "Write a function **getCatStats** that has the following parameters\n",
    "\n",
    "**df_obj:** a dataframe object  \n",
    "\n",
    "**cat_column_name:** a categorical column name of type string in the df_obj\n",
    "\n",
    "**target_column_name:** a categorical column name of type string in the df_obj\n",
    "\n",
    "Your function will return a dataframe where the columns are `mean and median` and the indices are the categories of the cat_column_name. The column `mean` will contain the mean of each category of the target_column_name, and the column `median` will contain the median of each category of the target_column_name.\n"
   ]
  },
  {
   "cell_type": "code",
   "execution_count": 60,
   "metadata": {
    "colab": {
     "base_uri": "https://localhost:8080/",
     "height": 143
    },
    "deletable": false,
    "id": "qW_4YZpw0h8F",
    "nbgrader": {
     "cell_type": "code",
     "checksum": "d430c5f1ec12c3eb848150287b812e11",
     "grade": false,
     "grade_id": "cell-7acde4cb5aa926f3",
     "locked": false,
     "schema_version": 3,
     "solution": true,
     "task": false
    },
    "outputId": "ac0fbae0-7715-4f90-9c44-695b36a18abb",
    "tags": []
   },
   "outputs": [],
   "source": [
    "def getCatStats(df_obj,cat_column_name,target_column_name):\n",
    "    # YOUR CODE HERE\n",
    "    pass"
   ]
  },
  {
   "cell_type": "markdown",
   "metadata": {
    "id": "A0lvPHG2yJUy"
   },
   "source": [
    "## Test Case"
   ]
  },
  {
   "cell_type": "code",
   "execution_count": 61,
   "metadata": {
    "colab": {
     "base_uri": "https://localhost:8080/",
     "height": 143
    },
    "id": "OrrHnTWsvz2O",
    "outputId": "fff6c9db-ad71-4d6c-dbc6-d98cbcd15bca",
    "tags": []
   },
   "outputs": [],
   "source": [
    "# This cell is for you to test your answer\n",
    "df=pd.DataFrame({\n",
    "    'A':range(1,45,5),\n",
    "    'B':range(10,99,10),\n",
    "    'C':4*['x']+['y']*3+['z']*2\n",
    "})\n",
    "getCatStats(df,'C','A')\n",
    "# If your function works properly, you will see the following output. Please make sure the column names are mean and median"
   ]
  },
  {
   "cell_type": "code",
   "execution_count": null,
   "metadata": {
    "deletable": false,
    "editable": false,
    "id": "TgJb3J_O5x36",
    "nbgrader": {
     "cell_type": "code",
     "checksum": "2417824e2ab94adef59924df8c142635",
     "grade": true,
     "grade_id": "Q3",
     "locked": true,
     "points": 25,
     "schema_version": 3,
     "solution": false,
     "task": false
    },
    "tags": []
   },
   "outputs": [],
   "source": [
    "# Don't delete or alter this cell"
   ]
  },
  {
   "cell_type": "markdown",
   "metadata": {
    "id": "InJoVW7zFdVT"
   },
   "source": [
    "# Problem 4 \n",
    "Write a function named **getCorr** that takes two parameters\n",
    "\n",
    "*   **df_obj**, a dataframe object\n",
    "*   **column_name**, a column name.\n",
    "\n",
    "Your function will find the correlation coefficient between the column_name and all numeric features in the df_obj and return a dictionary where the keys are the numeric feature names and the values are the correlation coefficient between the column_name and the numeric feature.\n"
   ]
  },
  {
   "cell_type": "code",
   "execution_count": null,
   "metadata": {
    "colab": {
     "base_uri": "https://localhost:8080/"
    },
    "id": "cjsgOwRfs8FX",
    "outputId": "05fc2a4a-a4e1-49d9-d780-4ac91f7ca0aa"
   },
   "outputs": [],
   "source": [
    "# This is an example of how to find the correlation coefficient of two columns. If you want, you can use the code to answer the question.\n",
    "import pandas as pd\n",
    "import numpy as np\n",
    "from scipy.stats import pearsonr\n",
    "df=pd.DataFrame({\n",
    "    'A':[1,4,2,3,4],\n",
    "    'B':[10,4,2,32,14],\n",
    "    'D':[10,40,20,32,114],\n",
    "})\n",
    "corr, _ = pearsonr(df['A'], df['D'])\n",
    "print('Pearsons correlation:', corr)\n",
    "\n",
    "#https://docs.scipy.org/doc/scipy/reference/generated/scipy.stats.pearsonr.html\n"
   ]
  },
  {
   "cell_type": "code",
   "execution_count": 10,
   "metadata": {
    "deletable": false,
    "id": "fxrAvCaAluat",
    "nbgrader": {
     "cell_type": "code",
     "checksum": "afc230c5072e34a4a4bafbf655d35546",
     "grade": false,
     "grade_id": "cell-29a6c4faf7333380",
     "locked": false,
     "schema_version": 3,
     "solution": true,
     "task": false
    },
    "tags": []
   },
   "outputs": [],
   "source": [
    "import pandas as pd\n",
    "import numpy as np\n",
    "from scipy.stats import pearsonr\n",
    "\n",
    "def getCorr(df_obj,column_name):\n",
    "# YOUR CODE HERE"
   ]
  },
  {
   "cell_type": "markdown",
   "metadata": {
    "id": "uQ6MvnKOtIpS"
   },
   "source": [
    "## Test Case"
   ]
  },
  {
   "cell_type": "code",
   "execution_count": 11,
   "metadata": {
    "colab": {
     "base_uri": "https://localhost:8080/"
    },
    "id": "TZb4WA7asZsG",
    "outputId": "62b7e521-fbf1-4093-bbae-1e2885a7fa93",
    "tags": []
   },
   "outputs": [
    {
     "data": {
      "text/plain": [
       "{'B': 0.1347816380869365, 'D': 0.7316469696025153}"
      ]
     },
     "execution_count": 11,
     "metadata": {},
     "output_type": "execute_result"
    }
   ],
   "source": [
    "# This cell is for you to test your answer\n",
    "df=pd.DataFrame({\n",
    "    'A':[1,4,2,3,4],\n",
    "    'B':[10,4,2,32,14],\n",
    "    'D':[10,40,20,32,114],\n",
    "})\n",
    "getCorr(df,'A')\n",
    "# If your function works properly, you will see the following output"
   ]
  },
  {
   "cell_type": "code",
   "execution_count": null,
   "metadata": {
    "deletable": false,
    "editable": false,
    "nbgrader": {
     "cell_type": "code",
     "checksum": "e74c6ec8a8a588abc89e483081f1d30c",
     "grade": true,
     "grade_id": "Q4",
     "locked": true,
     "points": 25,
     "schema_version": 3,
     "solution": false,
     "task": false
    },
    "tags": []
   },
   "outputs": [],
   "source": [
    "# Don't delete or alter this cell"
   ]
  },
  {
   "cell_type": "code",
   "execution_count": null,
   "metadata": {},
   "outputs": [],
   "source": []
  }
 ],
 "metadata": {
  "colab": {
   "collapsed_sections": [
    "hH9FSQGHkInD",
    "QZWwZfGRkien",
    "E4RgHFsbx-UE",
    "NjYDiYI1vypJ",
    "A0lvPHG2yJUy",
    "InJoVW7zFdVT"
   ],
   "provenance": []
  },
  "kernelspec": {
   "display_name": "Python 3 (ipykernel)",
   "language": "python",
   "name": "python3"
  },
  "language_info": {
   "codemirror_mode": {
    "name": "ipython",
    "version": 3
   },
   "file_extension": ".py",
   "mimetype": "text/x-python",
   "name": "python",
   "nbconvert_exporter": "python",
   "pygments_lexer": "ipython3",
   "version": "3.10.6"
  }
 },
 "nbformat": 4,
 "nbformat_minor": 4
}
